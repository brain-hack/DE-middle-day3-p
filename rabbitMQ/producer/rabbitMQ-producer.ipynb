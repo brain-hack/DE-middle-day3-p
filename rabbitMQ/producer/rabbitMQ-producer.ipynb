{
 "cells": [
  {
   "cell_type": "markdown",
   "metadata": {},
   "source": [
    "#  Hello RabbitMQ!\"\n",
    "\n",
    "### 우선 기본적으로 연결해서 주고받는걸 해보겠습니다"
   ]
  },
  {
   "cell_type": "markdown",
   "metadata": {},
   "source": [
    "우리가 해야 할 첫 번째 일은 패키지를 받고  RabbitMQ 서버와의 연결을 설정하는 것입니다."
   ]
  },
  {
   "cell_type": "code",
   "execution_count": 1,
   "metadata": {},
   "outputs": [
    {
     "name": "stdout",
     "output_type": "stream",
     "text": [
      "Collecting pika\n",
      "  Downloading https://files.pythonhosted.org/packages/a1/ae/8bedf0e9f1c0c5d046db3a7428a4227fe36ec1b8e25607f3c38ac9bf513c/pika-1.1.0-py2.py3-none-any.whl (148kB)\n",
      "\u001b[K    100% |################################| 153kB 295kB/s ta 0:00:01\n",
      "\u001b[?25hInstalling collected packages: pika\n",
      "Successfully installed pika-1.1.0\n"
     ]
    }
   ],
   "source": [
    "! pip3 install pika"
   ]
  },
  {
   "cell_type": "code",
   "execution_count": 34,
   "metadata": {},
   "outputs": [],
   "source": [
    "import pika\n",
    "\n",
    "credentials = pika.PlainCredentials(\"user\", \"bitnami\")\n",
    "connection = pika.BlockingConnection(pika.ConnectionParameters('127.0.0.1',\n",
    "                                                               '5672',\n",
    "                                                               '/',\n",
    "                                                               credentials=credentials))\n",
    "channel = connection.channel()"
   ]
  },
  {
   "cell_type": "markdown",
   "metadata": {},
   "source": [
    "## 보내기 - Sending\n",
    "\n",
    "#### 우리의 첫 번째 프로그램은 하나의 메시지를 큐에 보냅니다.\n",
    "#### 우선 큐를 지정해야 합니다."
   ]
  },
  {
   "cell_type": "code",
   "execution_count": 35,
   "metadata": {},
   "outputs": [
    {
     "data": {
      "text/plain": [
       "<METHOD(['channel_number=1', 'frame_type=1', \"method=<Queue.DeclareOk(['consumer_count=1', 'message_count=0', 'queue=hello'])>\"])>"
      ]
     },
     "execution_count": 35,
     "metadata": {},
     "output_type": "execute_result"
    }
   ],
   "source": [
    "channel.queue_declare(queue='hello')"
   ]
  },
  {
   "cell_type": "markdown",
   "metadata": {},
   "source": [
    "#### 이 시점에서 우리는 메시지를 보낼 준비가 되었습니다. <br> RabbitMQ에서는 메시지를 큐로 직접 보낼 수 없으며 항상 exchange을 거쳐야 합니다. <br> 하지만 일단은 빈 문자열로 exchange를 지정합니다. <br> 큐 이름은 routing_key 매개 변수에 지정해야합니다."
   ]
  },
  {
   "cell_type": "code",
   "execution_count": 36,
   "metadata": {
    "scrolled": true
   },
   "outputs": [
    {
     "name": "stdout",
     "output_type": "stream",
     "text": [
      " [x] Sent 'Hello World!'\n"
     ]
    }
   ],
   "source": [
    "channel.basic_publish(exchange='xyz',\n",
    "                      routing_key='hello',\n",
    "                      body='Hello World!')\n",
    "print(\" [x] Sent 'Hello World!'\")\n"
   ]
  },
  {
   "cell_type": "markdown",
   "metadata": {},
   "source": [
    "http://localhost:15672 로 들어가서 확인해보기 "
   ]
  },
  {
   "cell_type": "code",
   "execution_count": null,
   "metadata": {},
   "outputs": [],
   "source": []
  },
  {
   "cell_type": "markdown",
   "metadata": {},
   "source": [
    "## 문제\n",
    "\n",
    "### redis 실습에서 만들었던 가상 데이터를 이용해서 rabbitMQ로 전달하고 받는 쪽에서는 그걸 mongo DB에 넣는 것까지 진행 \n",
    "\n",
    "\n",
    "### producer : 가상 데이터 퍼블리싱    /    consumer : mongo DB에 적재 "
   ]
  },
  {
   "cell_type": "markdown",
   "metadata": {},
   "source": [
    "#### Hint 기존 redis에서 사용한 함수 \n",
    "#### 조건 큐 이름은 mail_chan으로 하세요 "
   ]
  },
  {
   "cell_type": "code",
   "execution_count": null,
   "metadata": {},
   "outputs": [],
   "source": [
    "def publish_sold_email_via_pubsub(conn, seller, item, price, buyer):\n",
    "    data = {\n",
    "        'seller_id': seller,\n",
    "        'item_id': item,\n",
    "        'price': price,\n",
    "        'buyer_id': buyer,\n",
    "        'time': time.time()\n",
    "    }\n",
    "    result = conn.publish('mail_channel',json.dumps(data))\\n\"\n",
    "    print(result, data)"
   ]
  },
  {
   "cell_type": "code",
   "execution_count": 37,
   "metadata": {},
   "outputs": [],
   "source": [
    "#### Hint2 기존 redis에서 사용한 루프"
   ]
  },
  {
   "cell_type": "code",
   "execution_count": null,
   "metadata": {},
   "outputs": [],
   "source": [
    "import random\n",
    "\n",
    "while True:\n",
    "    publish_sold_email_via_pubsub(conn=conn,\n",
    "                                  seller=random.choice(seller_list),\n",
    "                                  item=random.choice(item_list),\n",
    "                                  price=random.randrange(500,1000),\n",
    "                                  buyer=\"buyer_{}\".format(random.randrange(1000000)))\n",
    "    time.sleep(random.randrange(1,5))"
   ]
  },
  {
   "cell_type": "code",
   "execution_count": null,
   "metadata": {},
   "outputs": [],
   "source": []
  },
  {
   "cell_type": "code",
   "execution_count": null,
   "metadata": {},
   "outputs": [],
   "source": []
  },
  {
   "cell_type": "code",
   "execution_count": null,
   "metadata": {},
   "outputs": [],
   "source": []
  },
  {
   "cell_type": "code",
   "execution_count": null,
   "metadata": {},
   "outputs": [],
   "source": []
  },
  {
   "cell_type": "code",
   "execution_count": null,
   "metadata": {},
   "outputs": [],
   "source": []
  },
  {
   "cell_type": "code",
   "execution_count": null,
   "metadata": {},
   "outputs": [],
   "source": []
  },
  {
   "cell_type": "code",
   "execution_count": null,
   "metadata": {},
   "outputs": [],
   "source": []
  },
  {
   "cell_type": "code",
   "execution_count": null,
   "metadata": {},
   "outputs": [],
   "source": []
  },
  {
   "cell_type": "code",
   "execution_count": null,
   "metadata": {},
   "outputs": [],
   "source": [
    "credentials = pika.PlainCredentials(\"user\", \"bitnami\")\n",
    "connection = pika.BlockingConnection(pika.ConnectionParameters('127.0.0.1',\n",
    "                                                               '5672',\n",
    "                                                               '/',\n",
    "                                                               credentials=credentials))\n",
    "channel = connection.channel()\n",
    "\n",
    "channel.queue_declare(queue='mail_chan')\n",
    "\n",
    "\n",
    "def publish_sold_email_via_pubsub(conn, seller, item, price, buyer):\n",
    "    data = {\n",
    "        'seller_id': seller,\n",
    "        'item_id': item,\n",
    "        'price': price,\n",
    "        'buyer_id': buyer,\n",
    "        'time': time.time()\n",
    "    }\n",
    "    channel.basic_publish(exchange='xyz',\n",
    "                      routing_key='mail_chan',\n",
    "                      body='Hello World!')"
   ]
  },
  {
   "cell_type": "code",
   "execution_count": null,
   "metadata": {},
   "outputs": [],
   "source": [
    "import random\n",
    "\n",
    "while True:\n",
    "    publish_sold_email_via_pubsub(conn=conn,\n",
    "                                  seller=random.choice(seller_list),\n",
    "                                  item=random.choice(item_list),\n",
    "                                  price=random.randrange(500,1000),\n",
    "                                  buyer=\"buyer_{}\".format(random.randrange(1000000)))\n",
    "    time.sleep(random.randrange(1,5))"
   ]
  }
 ],
 "metadata": {
  "kernelspec": {
   "display_name": "Python 3",
   "language": "python",
   "name": "python3"
  },
  "language_info": {
   "codemirror_mode": {
    "name": "ipython",
    "version": 3
   },
   "file_extension": ".py",
   "mimetype": "text/x-python",
   "name": "python",
   "nbconvert_exporter": "python",
   "pygments_lexer": "ipython3",
   "version": "3.6.9"
  }
 },
 "nbformat": 4,
 "nbformat_minor": 2
}
