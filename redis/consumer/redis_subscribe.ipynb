{
 "cells": [
  {
   "cell_type": "code",
   "execution_count": 1,
   "metadata": {},
   "outputs": [
    {
     "name": "stdout",
     "output_type": "stream",
     "text": [
      "Collecting redis\n",
      "  Downloading https://files.pythonhosted.org/packages/32/ae/28613a62eea0d53d3db3147f8715f90da07667e99baeedf1010eb400f8c0/redis-3.3.11-py2.py3-none-any.whl (66kB)\n",
      "\u001b[K    100% |################################| 71kB 298kB/s ta 0:00:01\n",
      "\u001b[?25hInstalling collected packages: redis\n",
      "Successfully installed redis-3.3.11\n"
     ]
    }
   ],
   "source": [
    "! pip3 install redis"
   ]
  },
  {
   "cell_type": "code",
   "execution_count": 3,
   "metadata": {},
   "outputs": [],
   "source": [
    "import redis \n",
    "\n",
    "conn = redis.StrictRedis(\n",
    "\n",
    "        host='127.0.0.1',\n",
    "\n",
    "        port=6379,\n",
    "\n",
    "        db=1)"
   ]
  },
  {
   "cell_type": "code",
   "execution_count": 9,
   "metadata": {},
   "outputs": [
    {
     "name": "stdout",
     "output_type": "stream",
     "text": [
      "{'phone number': '123-123435', 'name': 'John'}\n"
     ]
    }
   ],
   "source": [
    "import json \n",
    "\n",
    "out_data = json.loads(conn.lpop(\"queue_data\"))\n",
    "print(out_data)"
   ]
  },
  {
   "cell_type": "code",
   "execution_count": 13,
   "metadata": {},
   "outputs": [
    {
     "name": "stdout",
     "output_type": "stream",
     "text": [
      "poped_data : (b'queue:email', b'{\"seller_id\": \"Belita\", \"item_id\": \" LG tromm\", \"price\": 794, \"buyer_id\": \"buyer_158185\", \"time\": 1575392522.9045138}')\n",
      "poped_data : (b'queue:email', b'{\"seller_id\": \"Aaron\", \"item_id\": \"V50\", \"price\": 598, \"buyer_id\": \"buyer_785814\", \"time\": 1575392524.9076152}')\n",
      "poped_data : (b'queue:email', b'{\"seller_id\": \"Kerri\", \"item_id\": \"LG ThinQ\", \"price\": 888, \"buyer_id\": \"buyer_655688\", \"time\": 1575392527.9115672}')\n",
      "poped_data : (b'queue:email', b'{\"seller_id\": \"Charles\", \"item_id\": \"LG gram\", \"price\": 940, \"buyer_id\": \"buyer_511548\", \"time\": 1575392529.9140782}')\n",
      "poped_data : (b'queue:email', b'{\"seller_id\": \"Aaron\", \"item_id\": \"LG gram\", \"price\": 901, \"buyer_id\": \"buyer_48309\", \"time\": 1575392530.9162476}')\n",
      "poped_data : (b'queue:email', b'{\"seller_id\": \"Belita\", \"item_id\": \"V50\", \"price\": 662, \"buyer_id\": \"buyer_93106\", \"time\": 1575392531.9179666}')\n",
      "poped_data : (b'queue:email', b'{\"seller_id\": \"Andy\", \"item_id\": \"LG DIOS\", \"price\": 727, \"buyer_id\": \"buyer_973205\", \"time\": 1575392533.921921}')\n",
      "poped_data : (b'queue:email', b'{\"seller_id\": \"Andy\", \"item_id\": \"V50\", \"price\": 842, \"buyer_id\": \"buyer_337665\", \"time\": 1575392536.9260306}')\n",
      "poped_data : (b'queue:email', b'{\"seller_id\": \"Aaron\", \"item_id\": \"LG ThinQ\", \"price\": 753, \"buyer_id\": \"buyer_554584\", \"time\": 1575392540.9310791}')\n",
      "poped_data : (b'queue:email', b'{\"seller_id\": \"Lukas\", \"item_id\": \"LG ThinQ\", \"price\": 550, \"buyer_id\": \"buyer_105910\", \"time\": 1575392541.933995}')\n",
      "poped_data : (b'queue:email', b'{\"seller_id\": \"Charles\", \"item_id\": \" LG tromm\", \"price\": 859, \"buyer_id\": \"buyer_881483\", \"time\": 1575392543.937087}')\n",
      "poped_data : (b'queue:email', b'{\"seller_id\": \"Lukas\", \"item_id\": \" LG tromm\", \"price\": 768, \"buyer_id\": \"buyer_589012\", \"time\": 1575392545.9401705}')\n",
      "poped_data : (b'queue:email', b'{\"seller_id\": \"Duncan\", \"item_id\": \" LG tromm\", \"price\": 834, \"buyer_id\": \"buyer_535295\", \"time\": 1575392546.942732}')\n",
      "poped_data : (b'queue:email', b'{\"seller_id\": \"Belita\", \"item_id\": \"V50\", \"price\": 763, \"buyer_id\": \"buyer_153096\", \"time\": 1575392547.9448388}')\n",
      "poped_data : (b'queue:email', b'{\"seller_id\": \"Martin\", \"item_id\": \"V50\", \"price\": 905, \"buyer_id\": \"buyer_432096\", \"time\": 1575392551.947186}')\n",
      "poped_data : (b'queue:email', b'{\"seller_id\": \"Duncan\", \"item_id\": \"V50\", \"price\": 613, \"buyer_id\": \"buyer_968254\", \"time\": 1575392555.9524791}')\n",
      "poped_data : (b'queue:email', b'{\"seller_id\": \"Hubert\", \"item_id\": \"LG DIOS\", \"price\": 595, \"buyer_id\": \"buyer_204698\", \"time\": 1575392556.9546738}')\n",
      "poped_data : (b'queue:email', b'{\"seller_id\": \"Belita\", \"item_id\": \" LG tromm\", \"price\": 588, \"buyer_id\": \"buyer_300906\", \"time\": 1575392560.95916}')\n",
      "poped_data : (b'queue:email', b'{\"seller_id\": \"Charles\", \"item_id\": \"LG gram\", \"price\": 580, \"buyer_id\": \"buyer_72683\", \"time\": 1575392563.9631977}')\n",
      "poped_data : (b'queue:email', b'{\"seller_id\": \"Belita\", \"item_id\": \" LG tromm\", \"price\": 858, \"buyer_id\": \"buyer_699663\", \"time\": 1575392565.9653351}')\n",
      "poped_data : (b'queue:email', b'{\"seller_id\": \"Martin\", \"item_id\": \"V50\", \"price\": 952, \"buyer_id\": \"buyer_409724\", \"time\": 1575392568.969457}')\n",
      "poped_data : (b'queue:email', b'{\"seller_id\": \"Kerri\", \"item_id\": \"LG gram\", \"price\": 968, \"buyer_id\": \"buyer_203842\", \"time\": 1575392570.9712124}')\n",
      "poped_data : (b'queue:email', b'{\"seller_id\": \"Kerri\", \"item_id\": \"LG ThinQ\", \"price\": 556, \"buyer_id\": \"buyer_852185\", \"time\": 1575392572.9743307}')\n",
      "poped_data : (b'queue:email', b'{\"seller_id\": \"Belita\", \"item_id\": \"LG ThinQ\", \"price\": 685, \"buyer_id\": \"buyer_435291\", \"time\": 1575392576.979504}')\n",
      "poped_data : (b'queue:email', b'{\"seller_id\": \"Lukas\", \"item_id\": \"LG gram\", \"price\": 856, \"buyer_id\": \"buyer_260553\", \"time\": 1575392577.9815757}')\n",
      "poped_data : (b'queue:email', b'{\"seller_id\": \"Andy\", \"item_id\": \"LG ThinQ\", \"price\": 987, \"buyer_id\": \"buyer_56358\", \"time\": 1575392578.9844673}')\n",
      "poped_data : (b'queue:email', b'{\"seller_id\": \"Charles\", \"item_id\": \" LG tromm\", \"price\": 989, \"buyer_id\": \"buyer_184374\", \"time\": 1575392581.9864597}')\n",
      "poped_data : (b'queue:email', b'{\"seller_id\": \"Hubert\", \"item_id\": \"V50\", \"price\": 637, \"buyer_id\": \"buyer_123406\", \"time\": 1575392583.9895272}')\n",
      "poped_data : (b'queue:email', b'{\"seller_id\": \"Aaron\", \"item_id\": \"LG gram\", \"price\": 739, \"buyer_id\": \"buyer_979828\", \"time\": 1575392584.9923418}')\n",
      "poped_data : (b'queue:email', b'{\"seller_id\": \"Andy\", \"item_id\": \" LG tromm\", \"price\": 993, \"buyer_id\": \"buyer_483389\", \"time\": 1575392588.9973617}')\n",
      "poped_data : (b'queue:email', b'{\"seller_id\": \"Duncan\", \"item_id\": \"LG DIOS\", \"price\": 591, \"buyer_id\": \"buyer_281488\", \"time\": 1575392591.0004194}')\n",
      "poped_data : (b'queue:email', b'{\"seller_id\": \"Charles\", \"item_id\": \"LG ThinQ\", \"price\": 688, \"buyer_id\": \"buyer_61835\", \"time\": 1575392595.0055213}')\n",
      "poped_data : (b'queue:email', b'{\"seller_id\": \"Lukas\", \"item_id\": \"LG gram\", \"price\": 744, \"buyer_id\": \"buyer_10196\", \"time\": 1575392599.0069807}')\n",
      "poped_data : (b'queue:email', b'{\"seller_id\": \"Duncan\", \"item_id\": \"LG gram\", \"price\": 976, \"buyer_id\": \"buyer_733842\", \"time\": 1575392603.0122042}')\n",
      "poped_data : (b'queue:email', b'{\"seller_id\": \"Kerri\", \"item_id\": \"V50\", \"price\": 665, \"buyer_id\": \"buyer_194127\", \"time\": 1575392606.0151455}')\n",
      "poped_data : (b'queue:email', b'{\"seller_id\": \"Martin\", \"item_id\": \"LG DIOS\", \"price\": 634, \"buyer_id\": \"buyer_841702\", \"time\": 1575392608.0192842}')\n",
      "poped_data : (b'queue:email', b'{\"seller_id\": \"Duncan\", \"item_id\": \"LG gram\", \"price\": 750, \"buyer_id\": \"buyer_815192\", \"time\": 1575392610.020446}')\n",
      "poped_data : (b'queue:email', b'{\"seller_id\": \"Lukas\", \"item_id\": \"LG DIOS\", \"price\": 565, \"buyer_id\": \"buyer_372295\", \"time\": 1575392612.0235484}')\n",
      "poped_data : (b'queue:email', b'{\"seller_id\": \"Hubert\", \"item_id\": \"V50\", \"price\": 716, \"buyer_id\": \"buyer_592643\", \"time\": 1575392613.025543}')\n",
      "poped_data : (b'queue:email', b'{\"seller_id\": \"Kerri\", \"item_id\": \" LG tromm\", \"price\": 568, \"buyer_id\": \"buyer_543713\", \"time\": 1575392616.0295851}')\n",
      "poped_data : (b'queue:email', b'{\"seller_id\": \"Andy\", \"item_id\": \"V50\", \"price\": 964, \"buyer_id\": \"buyer_842316\", \"time\": 1575392619.0333135}')\n",
      "poped_data : (b'queue:email', b'{\"seller_id\": \"Andy\", \"item_id\": \"LG DIOS\", \"price\": 996, \"buyer_id\": \"buyer_725872\", \"time\": 1575392623.0384145}')\n",
      "poped_data : (b'queue:email', b'{\"seller_id\": \"Andy\", \"item_id\": \"LG ThinQ\", \"price\": 834, \"buyer_id\": \"buyer_149675\", \"time\": 1575392625.042236}')\n",
      "poped_data : (b'queue:email', b'{\"seller_id\": \"Kerri\", \"item_id\": \"LG DIOS\", \"price\": 666, \"buyer_id\": \"buyer_715119\", \"time\": 1575392626.0443244}')\n",
      "poped_data : (b'queue:email', b'{\"seller_id\": \"Lukas\", \"item_id\": \"LG DIOS\", \"price\": 858, \"buyer_id\": \"buyer_684920\", \"time\": 1575392628.046398}')\n",
      "poped_data : (b'queue:email', b'{\"seller_id\": \"Daisy\", \"item_id\": \"LG DIOS\", \"price\": 729, \"buyer_id\": \"buyer_333570\", \"time\": 1575392630.049518}')\n",
      "poped_data : (b'queue:email', b'{\"seller_id\": \"Lukas\", \"item_id\": \"LG ThinQ\", \"price\": 824, \"buyer_id\": \"buyer_876937\", \"time\": 1575392633.0533953}')\n",
      "poped_data : (b'queue:email', b'{\"seller_id\": \"Lukas\", \"item_id\": \"LG gram\", \"price\": 810, \"buyer_id\": \"buyer_958861\", \"time\": 1575392637.0558374}')\n",
      "poped_data : (b'queue:email', b'{\"seller_id\": \"Martin\", \"item_id\": \"V50\", \"price\": 878, \"buyer_id\": \"buyer_957711\", \"time\": 1575392640.0607429}')\n",
      "poped_data : (b'queue:email', b'{\"seller_id\": \"Daisy\", \"item_id\": \"LG DIOS\", \"price\": 989, \"buyer_id\": \"buyer_148766\", \"time\": 1575392643.0631192}')\n",
      "poped_data : (b'queue:email', b'{\"seller_id\": \"Kerri\", \"item_id\": \"LG DIOS\", \"price\": 591, \"buyer_id\": \"buyer_925956\", \"time\": 1575392646.0676687}')\n",
      "poped_data : (b'queue:email', b'{\"seller_id\": \"Aaron\", \"item_id\": \" LG tromm\", \"price\": 777, \"buyer_id\": \"buyer_538969\", \"time\": 1575392649.069684}')\n",
      "poped_data : (b'queue:email', b'{\"seller_id\": \"Martin\", \"item_id\": \"LG gram\", \"price\": 544, \"buyer_id\": \"buyer_705834\", \"time\": 1575392651.0728102}')\n",
      "poped_data : (b'queue:email', b'{\"seller_id\": \"Daisy\", \"item_id\": \"LG gram\", \"price\": 782, \"buyer_id\": \"buyer_946094\", \"time\": 1575392655.0770419}')\n",
      "poped_data : (b'queue:email', b'{\"seller_id\": \"Andy\", \"item_id\": \"V50\", \"price\": 764, \"buyer_id\": \"buyer_836726\", \"time\": 1575392656.0787044}')\n",
      "poped_data : (b'queue:email', b'{\"seller_id\": \"Daisy\", \"item_id\": \" LG tromm\", \"price\": 573, \"buyer_id\": \"buyer_895536\", \"time\": 1575392658.0815215}')\n",
      "poped_data : (b'queue:email', b'{\"seller_id\": \"Duncan\", \"item_id\": \"LG ThinQ\", \"price\": 684, \"buyer_id\": \"buyer_363756\", \"time\": 1575392660.0846171}')\n",
      "poped_data : (b'queue:email', b'{\"seller_id\": \"Andy\", \"item_id\": \"LG DIOS\", \"price\": 653, \"buyer_id\": \"buyer_35014\", \"time\": 1575392661.0867462}')\n",
      "poped_data : (b'queue:email', b'{\"seller_id\": \"Aaron\", \"item_id\": \"V50\", \"price\": 504, \"buyer_id\": \"buyer_469041\", \"time\": 1575392662.0889463}')\n",
      "poped_data : (b'queue:email', b'{\"seller_id\": \"Andy\", \"item_id\": \"LG ThinQ\", \"price\": 641, \"buyer_id\": \"buyer_212345\", \"time\": 1575392665.092972}')\n",
      "poped_data : (b'queue:email', b'{\"seller_id\": \"Aaron\", \"item_id\": \"LG ThinQ\", \"price\": 994, \"buyer_id\": \"buyer_593794\", \"time\": 1575392667.0959635}')\n",
      "poped_data : (b'queue:email', b'{\"seller_id\": \"Aaron\", \"item_id\": \"LG DIOS\", \"price\": 777, \"buyer_id\": \"buyer_785287\", \"time\": 1575392670.0999677}')\n",
      "poped_data : (b'queue:email', b'{\"seller_id\": \"Aaron\", \"item_id\": \" LG tromm\", \"price\": 652, \"buyer_id\": \"buyer_511140\", \"time\": 1575392671.1019948}')\n",
      "poped_data : (b'queue:email', b'{\"seller_id\": \"Duncan\", \"item_id\": \"LG gram\", \"price\": 978, \"buyer_id\": \"buyer_814638\", \"time\": 1575392674.1031904}')\n",
      "poped_data : (b'queue:email', b'{\"seller_id\": \"Duncan\", \"item_id\": \"LG gram\", \"price\": 962, \"buyer_id\": \"buyer_506025\", \"time\": 1575392677.1072092}')\n",
      "poped_data : (b'queue:email', b'{\"seller_id\": \"Charles\", \"item_id\": \"V50\", \"price\": 753, \"buyer_id\": \"buyer_486433\", \"time\": 1575392680.1110518}')\n",
      "poped_data : (b'queue:email', b'{\"seller_id\": \"Charles\", \"item_id\": \"LG ThinQ\", \"price\": 909, \"buyer_id\": \"buyer_7578\", \"time\": 1575392681.1125097}')\n",
      "poped_data : (b'queue:email', b'{\"seller_id\": \"Lukas\", \"item_id\": \"LG ThinQ\", \"price\": 853, \"buyer_id\": \"buyer_644604\", \"time\": 1575392685.1161108}')\n",
      "poped_data : (b'queue:email', b'{\"seller_id\": \"Belita\", \"item_id\": \"LG DIOS\", \"price\": 740, \"buyer_id\": \"buyer_323323\", \"time\": 1575392689.121199}')\n",
      "poped_data : (b'queue:email', b'{\"seller_id\": \"Martin\", \"item_id\": \"LG gram\", \"price\": 594, \"buyer_id\": \"buyer_885778\", \"time\": 1575392693.1271152}')\n",
      "poped_data : (b'queue:email', b'{\"seller_id\": \"Belita\", \"item_id\": \"LG ThinQ\", \"price\": 702, \"buyer_id\": \"buyer_987828\", \"time\": 1575392696.131243}')\n",
      "poped_data : (b'queue:email', b'{\"seller_id\": \"Charles\", \"item_id\": \"V50\", \"price\": 555, \"buyer_id\": \"buyer_62102\", \"time\": 1575392698.1343596}')\n",
      "poped_data : (b'queue:email', b'{\"seller_id\": \"Charles\", \"item_id\": \"LG ThinQ\", \"price\": 534, \"buyer_id\": \"buyer_462021\", \"time\": 1575392699.136614}')\n",
      "poped_data : (b'queue:email', b'{\"seller_id\": \"Lukas\", \"item_id\": \"LG DIOS\", \"price\": 674, \"buyer_id\": \"buyer_634919\", \"time\": 1575392701.139212}')\n",
      "poped_data : (b'queue:email', b'{\"seller_id\": \"Andy\", \"item_id\": \"LG DIOS\", \"price\": 712, \"buyer_id\": \"buyer_571635\", \"time\": 1575392703.142471}')\n",
      "poped_data : (b'queue:email', b'{\"seller_id\": \"Daisy\", \"item_id\": \" LG tromm\", \"price\": 994, \"buyer_id\": \"buyer_899125\", \"time\": 1575392704.1447325}')\n",
      "poped_data : (b'queue:email', b'{\"seller_id\": \"Kerri\", \"item_id\": \"LG gram\", \"price\": 596, \"buyer_id\": \"buyer_241919\", \"time\": 1575392705.146928}')\n",
      "poped_data : (b'queue:email', b'{\"seller_id\": \"Hubert\", \"item_id\": \"LG gram\", \"price\": 839, \"buyer_id\": \"buyer_535475\", \"time\": 1575392706.1491737}')\n",
      "poped_data : (b'queue:email', b'{\"seller_id\": \"Charles\", \"item_id\": \"V50\", \"price\": 860, \"buyer_id\": \"buyer_71025\", \"time\": 1575392709.1533492}')\n",
      "poped_data : (b'queue:email', b'{\"seller_id\": \"Aaron\", \"item_id\": \"LG gram\", \"price\": 590, \"buyer_id\": \"buyer_624121\", \"time\": 1575392712.1574388}')\n",
      "poped_data : (b'queue:email', b'{\"seller_id\": \"Andy\", \"item_id\": \" LG tromm\", \"price\": 961, \"buyer_id\": \"buyer_783320\", \"time\": 1575392716.1619794}')\n",
      "poped_data : (b'queue:email', b'{\"seller_id\": \"Aaron\", \"item_id\": \" LG tromm\", \"price\": 976, \"buyer_id\": \"buyer_171517\", \"time\": 1575392718.165071}')\n",
      "poped_data : (b'queue:email', b'{\"seller_id\": \"Martin\", \"item_id\": \"LG ThinQ\", \"price\": 713, \"buyer_id\": \"buyer_212398\", \"time\": 1575392720.1682227}')\n",
      "poped_data : (b'queue:email', b'{\"seller_id\": \"Duncan\", \"item_id\": \"LG ThinQ\", \"price\": 633, \"buyer_id\": \"buyer_249932\", \"time\": 1575392724.1711802}')\n",
      "poped_data : (b'queue:email', b'{\"seller_id\": \"Duncan\", \"item_id\": \" LG tromm\", \"price\": 984, \"buyer_id\": \"buyer_538025\", \"time\": 1575392728.175459}')\n",
      "poped_data : (b'queue:email', b'{\"seller_id\": \"Belita\", \"item_id\": \"LG gram\", \"price\": 668, \"buyer_id\": \"buyer_782101\", \"time\": 1575392730.1787014}')\n",
      "poped_data : (b'queue:email', b'{\"seller_id\": \"Martin\", \"item_id\": \" LG tromm\", \"price\": 861, \"buyer_id\": \"buyer_932367\", \"time\": 1575392732.1805508}')\n"
     ]
    },
    {
     "ename": "KeyboardInterrupt",
     "evalue": "",
     "output_type": "error",
     "traceback": [
      "\u001b[0;31m---------------------------------------------------------------------------\u001b[0m",
      "\u001b[0;31mKeyboardInterrupt\u001b[0m                         Traceback (most recent call last)",
      "\u001b[0;32m<ipython-input-13-24aa6d315946>\u001b[0m in \u001b[0;36m<module>\u001b[0;34m\u001b[0m\n\u001b[1;32m      6\u001b[0m \u001b[0;34m\u001b[0m\u001b[0m\n\u001b[1;32m      7\u001b[0m \u001b[0;32mwhile\u001b[0m \u001b[0;32mTrue\u001b[0m\u001b[0;34m:\u001b[0m\u001b[0;34m\u001b[0m\u001b[0;34m\u001b[0m\u001b[0m\n\u001b[0;32m----> 8\u001b[0;31m     \u001b[0mpoped_data\u001b[0m \u001b[0;34m=\u001b[0m \u001b[0mconn\u001b[0m\u001b[0;34m.\u001b[0m\u001b[0mblpop\u001b[0m\u001b[0;34m(\u001b[0m\u001b[0;34m'queue:email'\u001b[0m\u001b[0;34m)\u001b[0m\u001b[0;34m\u001b[0m\u001b[0;34m\u001b[0m\u001b[0m\n\u001b[0m\u001b[1;32m      9\u001b[0m     \u001b[0mprint\u001b[0m\u001b[0;34m(\u001b[0m\u001b[0;34m'poped_data : {}'\u001b[0m\u001b[0;34m.\u001b[0m\u001b[0mformat\u001b[0m\u001b[0;34m(\u001b[0m\u001b[0mpoped_data\u001b[0m\u001b[0;34m)\u001b[0m\u001b[0;34m)\u001b[0m\u001b[0;34m\u001b[0m\u001b[0;34m\u001b[0m\u001b[0m\n\u001b[1;32m     10\u001b[0m     \u001b[0;32mif\u001b[0m \u001b[0mtype\u001b[0m\u001b[0;34m(\u001b[0m\u001b[0mpoped_data\u001b[0m\u001b[0;34m)\u001b[0m \u001b[0;32mis\u001b[0m \u001b[0mlist\u001b[0m\u001b[0;34m:\u001b[0m\u001b[0;34m\u001b[0m\u001b[0;34m\u001b[0m\u001b[0m\n",
      "\u001b[0;32m/usr/local/lib/python3.6/dist-packages/redis/client.py\u001b[0m in \u001b[0;36mblpop\u001b[0;34m(self, keys, timeout)\u001b[0m\n\u001b[1;32m   1616\u001b[0m         \u001b[0mkeys\u001b[0m \u001b[0;34m=\u001b[0m \u001b[0mlist_or_args\u001b[0m\u001b[0;34m(\u001b[0m\u001b[0mkeys\u001b[0m\u001b[0;34m,\u001b[0m \u001b[0;32mNone\u001b[0m\u001b[0;34m)\u001b[0m\u001b[0;34m\u001b[0m\u001b[0;34m\u001b[0m\u001b[0m\n\u001b[1;32m   1617\u001b[0m         \u001b[0mkeys\u001b[0m\u001b[0;34m.\u001b[0m\u001b[0mappend\u001b[0m\u001b[0;34m(\u001b[0m\u001b[0mtimeout\u001b[0m\u001b[0;34m)\u001b[0m\u001b[0;34m\u001b[0m\u001b[0;34m\u001b[0m\u001b[0m\n\u001b[0;32m-> 1618\u001b[0;31m         \u001b[0;32mreturn\u001b[0m \u001b[0mself\u001b[0m\u001b[0;34m.\u001b[0m\u001b[0mexecute_command\u001b[0m\u001b[0;34m(\u001b[0m\u001b[0;34m'BLPOP'\u001b[0m\u001b[0;34m,\u001b[0m \u001b[0;34m*\u001b[0m\u001b[0mkeys\u001b[0m\u001b[0;34m)\u001b[0m\u001b[0;34m\u001b[0m\u001b[0;34m\u001b[0m\u001b[0m\n\u001b[0m\u001b[1;32m   1619\u001b[0m \u001b[0;34m\u001b[0m\u001b[0m\n\u001b[1;32m   1620\u001b[0m     \u001b[0;32mdef\u001b[0m \u001b[0mbrpop\u001b[0m\u001b[0;34m(\u001b[0m\u001b[0mself\u001b[0m\u001b[0;34m,\u001b[0m \u001b[0mkeys\u001b[0m\u001b[0;34m,\u001b[0m \u001b[0mtimeout\u001b[0m\u001b[0;34m=\u001b[0m\u001b[0;36m0\u001b[0m\u001b[0;34m)\u001b[0m\u001b[0;34m:\u001b[0m\u001b[0;34m\u001b[0m\u001b[0;34m\u001b[0m\u001b[0m\n",
      "\u001b[0;32m/usr/local/lib/python3.6/dist-packages/redis/client.py\u001b[0m in \u001b[0;36mexecute_command\u001b[0;34m(self, *args, **options)\u001b[0m\n\u001b[1;32m    837\u001b[0m         \u001b[0;32mtry\u001b[0m\u001b[0;34m:\u001b[0m\u001b[0;34m\u001b[0m\u001b[0;34m\u001b[0m\u001b[0m\n\u001b[1;32m    838\u001b[0m             \u001b[0mconn\u001b[0m\u001b[0;34m.\u001b[0m\u001b[0msend_command\u001b[0m\u001b[0;34m(\u001b[0m\u001b[0;34m*\u001b[0m\u001b[0margs\u001b[0m\u001b[0;34m)\u001b[0m\u001b[0;34m\u001b[0m\u001b[0;34m\u001b[0m\u001b[0m\n\u001b[0;32m--> 839\u001b[0;31m             \u001b[0;32mreturn\u001b[0m \u001b[0mself\u001b[0m\u001b[0;34m.\u001b[0m\u001b[0mparse_response\u001b[0m\u001b[0;34m(\u001b[0m\u001b[0mconn\u001b[0m\u001b[0;34m,\u001b[0m \u001b[0mcommand_name\u001b[0m\u001b[0;34m,\u001b[0m \u001b[0;34m**\u001b[0m\u001b[0moptions\u001b[0m\u001b[0;34m)\u001b[0m\u001b[0;34m\u001b[0m\u001b[0;34m\u001b[0m\u001b[0m\n\u001b[0m\u001b[1;32m    840\u001b[0m         \u001b[0;32mexcept\u001b[0m \u001b[0;34m(\u001b[0m\u001b[0mConnectionError\u001b[0m\u001b[0;34m,\u001b[0m \u001b[0mTimeoutError\u001b[0m\u001b[0;34m)\u001b[0m \u001b[0;32mas\u001b[0m \u001b[0me\u001b[0m\u001b[0;34m:\u001b[0m\u001b[0;34m\u001b[0m\u001b[0;34m\u001b[0m\u001b[0m\n\u001b[1;32m    841\u001b[0m             \u001b[0mconn\u001b[0m\u001b[0;34m.\u001b[0m\u001b[0mdisconnect\u001b[0m\u001b[0;34m(\u001b[0m\u001b[0;34m)\u001b[0m\u001b[0;34m\u001b[0m\u001b[0;34m\u001b[0m\u001b[0m\n",
      "\u001b[0;32m/usr/local/lib/python3.6/dist-packages/redis/client.py\u001b[0m in \u001b[0;36mparse_response\u001b[0;34m(self, connection, command_name, **options)\u001b[0m\n\u001b[1;32m    851\u001b[0m         \u001b[0;34m\"Parses a response from the Redis server\"\u001b[0m\u001b[0;34m\u001b[0m\u001b[0;34m\u001b[0m\u001b[0m\n\u001b[1;32m    852\u001b[0m         \u001b[0;32mtry\u001b[0m\u001b[0;34m:\u001b[0m\u001b[0;34m\u001b[0m\u001b[0;34m\u001b[0m\u001b[0m\n\u001b[0;32m--> 853\u001b[0;31m             \u001b[0mresponse\u001b[0m \u001b[0;34m=\u001b[0m \u001b[0mconnection\u001b[0m\u001b[0;34m.\u001b[0m\u001b[0mread_response\u001b[0m\u001b[0;34m(\u001b[0m\u001b[0;34m)\u001b[0m\u001b[0;34m\u001b[0m\u001b[0;34m\u001b[0m\u001b[0m\n\u001b[0m\u001b[1;32m    854\u001b[0m         \u001b[0;32mexcept\u001b[0m \u001b[0mResponseError\u001b[0m\u001b[0;34m:\u001b[0m\u001b[0;34m\u001b[0m\u001b[0;34m\u001b[0m\u001b[0m\n\u001b[1;32m    855\u001b[0m             \u001b[0;32mif\u001b[0m \u001b[0mEMPTY_RESPONSE\u001b[0m \u001b[0;32min\u001b[0m \u001b[0moptions\u001b[0m\u001b[0;34m:\u001b[0m\u001b[0;34m\u001b[0m\u001b[0;34m\u001b[0m\u001b[0m\n",
      "\u001b[0;32m/usr/local/lib/python3.6/dist-packages/redis/connection.py\u001b[0m in \u001b[0;36mread_response\u001b[0;34m(self)\u001b[0m\n\u001b[1;32m    698\u001b[0m         \u001b[0;34m\"Read the response from a previously sent command\"\u001b[0m\u001b[0;34m\u001b[0m\u001b[0;34m\u001b[0m\u001b[0m\n\u001b[1;32m    699\u001b[0m         \u001b[0;32mtry\u001b[0m\u001b[0;34m:\u001b[0m\u001b[0;34m\u001b[0m\u001b[0;34m\u001b[0m\u001b[0m\n\u001b[0;32m--> 700\u001b[0;31m             \u001b[0mresponse\u001b[0m \u001b[0;34m=\u001b[0m \u001b[0mself\u001b[0m\u001b[0;34m.\u001b[0m\u001b[0m_parser\u001b[0m\u001b[0;34m.\u001b[0m\u001b[0mread_response\u001b[0m\u001b[0;34m(\u001b[0m\u001b[0;34m)\u001b[0m\u001b[0;34m\u001b[0m\u001b[0;34m\u001b[0m\u001b[0m\n\u001b[0m\u001b[1;32m    701\u001b[0m         \u001b[0;32mexcept\u001b[0m \u001b[0msocket\u001b[0m\u001b[0;34m.\u001b[0m\u001b[0mtimeout\u001b[0m\u001b[0;34m:\u001b[0m\u001b[0;34m\u001b[0m\u001b[0;34m\u001b[0m\u001b[0m\n\u001b[1;32m    702\u001b[0m             \u001b[0mself\u001b[0m\u001b[0;34m.\u001b[0m\u001b[0mdisconnect\u001b[0m\u001b[0;34m(\u001b[0m\u001b[0;34m)\u001b[0m\u001b[0;34m\u001b[0m\u001b[0;34m\u001b[0m\u001b[0m\n",
      "\u001b[0;32m/usr/local/lib/python3.6/dist-packages/redis/connection.py\u001b[0m in \u001b[0;36mread_response\u001b[0;34m(self)\u001b[0m\n\u001b[1;32m    308\u001b[0m \u001b[0;34m\u001b[0m\u001b[0m\n\u001b[1;32m    309\u001b[0m     \u001b[0;32mdef\u001b[0m \u001b[0mread_response\u001b[0m\u001b[0;34m(\u001b[0m\u001b[0mself\u001b[0m\u001b[0;34m)\u001b[0m\u001b[0;34m:\u001b[0m\u001b[0;34m\u001b[0m\u001b[0;34m\u001b[0m\u001b[0m\n\u001b[0;32m--> 310\u001b[0;31m         \u001b[0mresponse\u001b[0m \u001b[0;34m=\u001b[0m \u001b[0mself\u001b[0m\u001b[0;34m.\u001b[0m\u001b[0m_buffer\u001b[0m\u001b[0;34m.\u001b[0m\u001b[0mreadline\u001b[0m\u001b[0;34m(\u001b[0m\u001b[0;34m)\u001b[0m\u001b[0;34m\u001b[0m\u001b[0;34m\u001b[0m\u001b[0m\n\u001b[0m\u001b[1;32m    311\u001b[0m         \u001b[0;32mif\u001b[0m \u001b[0;32mnot\u001b[0m \u001b[0mresponse\u001b[0m\u001b[0;34m:\u001b[0m\u001b[0;34m\u001b[0m\u001b[0;34m\u001b[0m\u001b[0m\n\u001b[1;32m    312\u001b[0m             \u001b[0;32mraise\u001b[0m \u001b[0mConnectionError\u001b[0m\u001b[0;34m(\u001b[0m\u001b[0mSERVER_CLOSED_CONNECTION_ERROR\u001b[0m\u001b[0;34m)\u001b[0m\u001b[0;34m\u001b[0m\u001b[0;34m\u001b[0m\u001b[0m\n",
      "\u001b[0;32m/usr/local/lib/python3.6/dist-packages/redis/connection.py\u001b[0m in \u001b[0;36mreadline\u001b[0;34m(self)\u001b[0m\n\u001b[1;32m    240\u001b[0m         \u001b[0;32mwhile\u001b[0m \u001b[0;32mnot\u001b[0m \u001b[0mdata\u001b[0m\u001b[0;34m.\u001b[0m\u001b[0mendswith\u001b[0m\u001b[0;34m(\u001b[0m\u001b[0mSYM_CRLF\u001b[0m\u001b[0;34m)\u001b[0m\u001b[0;34m:\u001b[0m\u001b[0;34m\u001b[0m\u001b[0;34m\u001b[0m\u001b[0m\n\u001b[1;32m    241\u001b[0m             \u001b[0;31m# there's more data in the socket that we need\u001b[0m\u001b[0;34m\u001b[0m\u001b[0;34m\u001b[0m\u001b[0;34m\u001b[0m\u001b[0m\n\u001b[0;32m--> 242\u001b[0;31m             \u001b[0mself\u001b[0m\u001b[0;34m.\u001b[0m\u001b[0m_read_from_socket\u001b[0m\u001b[0;34m(\u001b[0m\u001b[0;34m)\u001b[0m\u001b[0;34m\u001b[0m\u001b[0;34m\u001b[0m\u001b[0m\n\u001b[0m\u001b[1;32m    243\u001b[0m             \u001b[0mbuf\u001b[0m\u001b[0;34m.\u001b[0m\u001b[0mseek\u001b[0m\u001b[0;34m(\u001b[0m\u001b[0mself\u001b[0m\u001b[0;34m.\u001b[0m\u001b[0mbytes_read\u001b[0m\u001b[0;34m)\u001b[0m\u001b[0;34m\u001b[0m\u001b[0;34m\u001b[0m\u001b[0m\n\u001b[1;32m    244\u001b[0m             \u001b[0mdata\u001b[0m \u001b[0;34m=\u001b[0m \u001b[0mbuf\u001b[0m\u001b[0;34m.\u001b[0m\u001b[0mreadline\u001b[0m\u001b[0;34m(\u001b[0m\u001b[0;34m)\u001b[0m\u001b[0;34m\u001b[0m\u001b[0;34m\u001b[0m\u001b[0m\n",
      "\u001b[0;32m/usr/local/lib/python3.6/dist-packages/redis/connection.py\u001b[0m in \u001b[0;36m_read_from_socket\u001b[0;34m(self, length, timeout, raise_on_timeout)\u001b[0m\n\u001b[1;32m    182\u001b[0m                 \u001b[0msock\u001b[0m\u001b[0;34m.\u001b[0m\u001b[0msettimeout\u001b[0m\u001b[0;34m(\u001b[0m\u001b[0mtimeout\u001b[0m\u001b[0;34m)\u001b[0m\u001b[0;34m\u001b[0m\u001b[0;34m\u001b[0m\u001b[0m\n\u001b[1;32m    183\u001b[0m             \u001b[0;32mwhile\u001b[0m \u001b[0;32mTrue\u001b[0m\u001b[0;34m:\u001b[0m\u001b[0;34m\u001b[0m\u001b[0;34m\u001b[0m\u001b[0m\n\u001b[0;32m--> 184\u001b[0;31m                 \u001b[0mdata\u001b[0m \u001b[0;34m=\u001b[0m \u001b[0mrecv\u001b[0m\u001b[0;34m(\u001b[0m\u001b[0mself\u001b[0m\u001b[0;34m.\u001b[0m\u001b[0m_sock\u001b[0m\u001b[0;34m,\u001b[0m \u001b[0msocket_read_size\u001b[0m\u001b[0;34m)\u001b[0m\u001b[0;34m\u001b[0m\u001b[0;34m\u001b[0m\u001b[0m\n\u001b[0m\u001b[1;32m    185\u001b[0m                 \u001b[0;31m# an empty string indicates the server shutdown the socket\u001b[0m\u001b[0;34m\u001b[0m\u001b[0;34m\u001b[0m\u001b[0;34m\u001b[0m\u001b[0m\n\u001b[1;32m    186\u001b[0m                 \u001b[0;32mif\u001b[0m \u001b[0misinstance\u001b[0m\u001b[0;34m(\u001b[0m\u001b[0mdata\u001b[0m\u001b[0;34m,\u001b[0m \u001b[0mbytes\u001b[0m\u001b[0;34m)\u001b[0m \u001b[0;32mand\u001b[0m \u001b[0mlen\u001b[0m\u001b[0;34m(\u001b[0m\u001b[0mdata\u001b[0m\u001b[0;34m)\u001b[0m \u001b[0;34m==\u001b[0m \u001b[0;36m0\u001b[0m\u001b[0;34m:\u001b[0m\u001b[0;34m\u001b[0m\u001b[0;34m\u001b[0m\u001b[0m\n",
      "\u001b[0;32m/usr/local/lib/python3.6/dist-packages/redis/_compat.py\u001b[0m in \u001b[0;36mrecv\u001b[0;34m(sock, *args, **kwargs)\u001b[0m\n\u001b[1;32m     69\u001b[0m \u001b[0;32melse\u001b[0m\u001b[0;34m:\u001b[0m  \u001b[0;31m# Python 3.5 and above automatically retry EINTR\u001b[0m\u001b[0;34m\u001b[0m\u001b[0;34m\u001b[0m\u001b[0m\n\u001b[1;32m     70\u001b[0m     \u001b[0;32mdef\u001b[0m \u001b[0mrecv\u001b[0m\u001b[0;34m(\u001b[0m\u001b[0msock\u001b[0m\u001b[0;34m,\u001b[0m \u001b[0;34m*\u001b[0m\u001b[0margs\u001b[0m\u001b[0;34m,\u001b[0m \u001b[0;34m**\u001b[0m\u001b[0mkwargs\u001b[0m\u001b[0;34m)\u001b[0m\u001b[0;34m:\u001b[0m\u001b[0;34m\u001b[0m\u001b[0;34m\u001b[0m\u001b[0m\n\u001b[0;32m---> 71\u001b[0;31m         \u001b[0;32mreturn\u001b[0m \u001b[0msock\u001b[0m\u001b[0;34m.\u001b[0m\u001b[0mrecv\u001b[0m\u001b[0;34m(\u001b[0m\u001b[0;34m*\u001b[0m\u001b[0margs\u001b[0m\u001b[0;34m,\u001b[0m \u001b[0;34m**\u001b[0m\u001b[0mkwargs\u001b[0m\u001b[0;34m)\u001b[0m\u001b[0;34m\u001b[0m\u001b[0;34m\u001b[0m\u001b[0m\n\u001b[0m\u001b[1;32m     72\u001b[0m \u001b[0;34m\u001b[0m\u001b[0m\n\u001b[1;32m     73\u001b[0m     \u001b[0;32mdef\u001b[0m \u001b[0mrecv_into\u001b[0m\u001b[0;34m(\u001b[0m\u001b[0msock\u001b[0m\u001b[0;34m,\u001b[0m \u001b[0;34m*\u001b[0m\u001b[0margs\u001b[0m\u001b[0;34m,\u001b[0m \u001b[0;34m**\u001b[0m\u001b[0mkwargs\u001b[0m\u001b[0;34m)\u001b[0m\u001b[0;34m:\u001b[0m\u001b[0;34m\u001b[0m\u001b[0;34m\u001b[0m\u001b[0m\n",
      "\u001b[0;31mKeyboardInterrupt\u001b[0m: "
     ]
    }
   ],
   "source": [
    "import csv\n",
    "\n",
    "count=0\n",
    "file_count=0\n",
    "data_list = []\n",
    "\n",
    "while True:\n",
    "    poped_data = conn.blpop('queue:email')\n",
    "    print('poped_data : {}'.format(poped_data))\n",
    "    if type(poped_data) is list:\n",
    "        data_list.extend([json.loads(email) for email in poped_data])\n",
    "    elif type(poped_data) is dict:\n",
    "        data_list.append(poped_data)\n",
    "    else:\n",
    "        pass\n",
    "    count +=1\n",
    "    \n",
    "    if count == 1000:\n",
    "        keys = data_list[0].keys()\n",
    "        filename = 'emails_{}.csv'.format(file_count)\n",
    "        with open(filename, 'wb') as output_file:\n",
    "            dict_writer = csv.DictWriter(output_file, keys)\n",
    "            dict_writer.writeheader()\n",
    "            dict_writer.writerows(data_list)\n",
    "            print('store_csv : {}'.format(filename))\n",
    "        file_count += 1\n",
    "        count = 0\n",
    "        data_list = []"
   ]
  },
  {
   "cell_type": "code",
   "execution_count": null,
   "metadata": {},
   "outputs": [
    {
     "name": "stdout",
     "output_type": "stream",
     "text": [
      "sub_data : {'type': 'subscribe', 'pattern': None, 'channel': b'mail_channel', 'data': 1}\n",
      "sub_data : {'type': 'message', 'pattern': None, 'channel': b'mail_channel', 'data': b'{\"seller_id\": \"Belita\", \"item_id\": \" LG tromm\", \"price\": 777, \"buyer_id\": \"buyer_957803\", \"time\": 1575393290.7111568}'}\n",
      "sub_data : {'type': 'message', 'pattern': None, 'channel': b'mail_channel', 'data': b'{\"seller_id\": \"Kerri\", \"item_id\": \"LG gram\", \"price\": 622, \"buyer_id\": \"buyer_692468\", \"time\": 1575393293.71541}'}\n",
      "sub_data : {'type': 'message', 'pattern': None, 'channel': b'mail_channel', 'data': b'{\"seller_id\": \"Aaron\", \"item_id\": \"LG gram\", \"price\": 808, \"buyer_id\": \"buyer_826614\", \"time\": 1575393294.7191076}'}\n",
      "sub_data : {'type': 'message', 'pattern': None, 'channel': b'mail_channel', 'data': b'{\"seller_id\": \"Duncan\", \"item_id\": \" LG tromm\", \"price\": 607, \"buyer_id\": \"buyer_351901\", \"time\": 1575393298.7242796}'}\n",
      "sub_data : {'type': 'message', 'pattern': None, 'channel': b'mail_channel', 'data': b'{\"seller_id\": \"Martin\", \"item_id\": \" LG tromm\", \"price\": 939, \"buyer_id\": \"buyer_846534\", \"time\": 1575393301.727093}'}\n",
      "sub_data : {'type': 'message', 'pattern': None, 'channel': b'mail_channel', 'data': b'{\"seller_id\": \"Andy\", \"item_id\": \"V50\", \"price\": 983, \"buyer_id\": \"buyer_919679\", \"time\": 1575393305.731423}'}\n",
      "sub_data : {'type': 'message', 'pattern': None, 'channel': b'mail_channel', 'data': b'{\"seller_id\": \"Kerri\", \"item_id\": \" LG tromm\", \"price\": 714, \"buyer_id\": \"buyer_97833\", \"time\": 1575393307.734921}'}\n",
      "sub_data : {'type': 'message', 'pattern': None, 'channel': b'mail_channel', 'data': b'{\"seller_id\": \"Duncan\", \"item_id\": \" LG tromm\", \"price\": 862, \"buyer_id\": \"buyer_5552\", \"time\": 1575393308.7372556}'}\n",
      "sub_data : {'type': 'message', 'pattern': None, 'channel': b'mail_channel', 'data': b'{\"seller_id\": \"Belita\", \"item_id\": \"V50\", \"price\": 858, \"buyer_id\": \"buyer_50419\", \"time\": 1575393310.7390642}'}\n"
     ]
    }
   ],
   "source": [
    "pubsub = conn.pubsub()\n",
    "pubsub.subscribe(['mail_channel'])\n",
    "for item in pubsub.listen():\n",
    "    print('sub_data : {}'.format(item))"
   ]
  },
  {
   "cell_type": "code",
   "execution_count": null,
   "metadata": {},
   "outputs": [],
   "source": []
  }
 ],
 "metadata": {
  "kernelspec": {
   "display_name": "Python 3",
   "language": "python",
   "name": "python3"
  },
  "language_info": {
   "codemirror_mode": {
    "name": "ipython",
    "version": 3
   },
   "file_extension": ".py",
   "mimetype": "text/x-python",
   "name": "python",
   "nbconvert_exporter": "python",
   "pygments_lexer": "ipython3",
   "version": "3.6.9"
  }
 },
 "nbformat": 4,
 "nbformat_minor": 2
}
